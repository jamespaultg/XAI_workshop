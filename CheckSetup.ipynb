{
  "nbformat": 4,
  "nbformat_minor": 0,
  "metadata": {
    "colab": {
      "name": "CheckSetup.ipynb",
      "provenance": [],
      "authorship_tag": "ABX9TyOq12PGzmo0OVadKgFfQuwh",
      "include_colab_link": true
    },
    "kernelspec": {
      "name": "python3",
      "display_name": "Python 3"
    }
  },
  "cells": [
    {
      "cell_type": "markdown",
      "metadata": {
        "id": "view-in-github",
        "colab_type": "text"
      },
      "source": [
        "<a href=\"https://colab.research.google.com/github/jamespaultg/XAI_workshop/blob/master/CheckSetup.ipynb\" target=\"_parent\"><img src=\"https://colab.research.google.com/assets/colab-badge.svg\" alt=\"Open In Colab\"/></a>"
      ]
    },
    {
      "cell_type": "markdown",
      "metadata": {
        "id": "XtGGxI2V8XZd",
        "colab_type": "text"
      },
      "source": [
        "# Explainable AI workshop\n",
        "**Check setup for the Explainable AI workshop**"
      ]
    },
    {
      "cell_type": "markdown",
      "metadata": {
        "id": "oXYy9SAO_elw",
        "colab_type": "text"
      },
      "source": [
        "Copy the contents of the github repo 'XAI_workshop' to the folder 'XAI_workshop'.  \n",
        "This will copy the data and the notebooks that we will use during the worksop\n"
      ]
    },
    {
      "cell_type": "code",
      "metadata": {
        "id": "_-caBRCf8WgS",
        "colab_type": "code",
        "colab": {
          "base_uri": "https://localhost:8080/",
          "height": 136
        },
        "outputId": "ad8c8943-946b-4fe1-9efe-6388fa59ec58"
      },
      "source": [
        "!rm -r XAI_workshop\n",
        "!git clone https://github.com/jamespaultg/XAI_workshop/"
      ],
      "execution_count": 2,
      "outputs": [
        {
          "output_type": "stream",
          "text": [
            "rm: cannot remove 'xaiworkshop': No such file or directory\n",
            "Cloning into 'XAI_workshop'...\n",
            "remote: Enumerating objects: 11, done.\u001b[K\n",
            "remote: Counting objects: 100% (11/11), done.\u001b[K\n",
            "remote: Compressing objects: 100% (7/7), done.\u001b[K\n",
            "remote: Total 11 (delta 0), reused 0 (delta 0), pack-reused 0\u001b[K\n",
            "Unpacking objects: 100% (11/11), done.\n"
          ],
          "name": "stdout"
        }
      ]
    },
    {
      "cell_type": "markdown",
      "metadata": {
        "id": "g2FO2pW4_v0B",
        "colab_type": "text"
      },
      "source": [
        "Check if the installation of the libraries goes well"
      ]
    },
    {
      "cell_type": "code",
      "metadata": {
        "id": "JBuzqzt58n5A",
        "colab_type": "code",
        "colab": {}
      },
      "source": [
        "!pip install lime -q"
      ],
      "execution_count": 3,
      "outputs": []
    },
    {
      "cell_type": "markdown",
      "metadata": {
        "id": "YZaNny9z_5sf",
        "colab_type": "text"
      },
      "source": [
        "Load the required libraries"
      ]
    },
    {
      "cell_type": "code",
      "metadata": {
        "id": "rfB0MbEZ-c1M",
        "colab_type": "code",
        "colab": {}
      },
      "source": [
        "# Load required libraries\n",
        "\n",
        "import lime\n",
        "import lime.lime_tabular\n",
        "\n",
        "import pandas as pd\n",
        "import numpy as np\n",
        "import lightgbm as lgb"
      ],
      "execution_count": 5,
      "outputs": []
    },
    {
      "cell_type": "markdown",
      "metadata": {
        "id": "6PFFwBn6_8Bh",
        "colab_type": "text"
      },
      "source": [
        "Load the titanic data from the repo contents we just copied\n",
        "  - If the setup is fine, you will see the top 5 rows of the titanic dataset\n",
        "  - Else, you get an error\n",
        "\n",
        "---\n",
        "\n"
      ]
    },
    {
      "cell_type": "code",
      "metadata": {
        "id": "kskUZwoi8shw",
        "colab_type": "code",
        "colab": {
          "base_uri": "https://localhost:8080/",
          "height": 204
        },
        "outputId": "918734d5-9751-4b03-cd12-df2b272e704f"
      },
      "source": [
        "# Reading the titanic data\n",
        "df_titanic = pd.read_csv('XAI_workshop/data/titanic.csv')\n",
        "assert len(df_titanic) == 891, 'There is an error. Please email james gnanasekaran with the details of the error message you get'\n",
        "df_titanic.head()"
      ],
      "execution_count": 17,
      "outputs": [
        {
          "output_type": "execute_result",
          "data": {
            "text/html": [
              "<div>\n",
              "<style scoped>\n",
              "    .dataframe tbody tr th:only-of-type {\n",
              "        vertical-align: middle;\n",
              "    }\n",
              "\n",
              "    .dataframe tbody tr th {\n",
              "        vertical-align: top;\n",
              "    }\n",
              "\n",
              "    .dataframe thead th {\n",
              "        text-align: right;\n",
              "    }\n",
              "</style>\n",
              "<table border=\"1\" class=\"dataframe\">\n",
              "  <thead>\n",
              "    <tr style=\"text-align: right;\">\n",
              "      <th></th>\n",
              "      <th>PassengerId</th>\n",
              "      <th>Survived</th>\n",
              "      <th>Pclass</th>\n",
              "      <th>Name</th>\n",
              "      <th>Sex</th>\n",
              "      <th>Age</th>\n",
              "      <th>SibSp</th>\n",
              "      <th>Parch</th>\n",
              "      <th>Ticket</th>\n",
              "      <th>Fare</th>\n",
              "      <th>Cabin</th>\n",
              "      <th>Embarked</th>\n",
              "    </tr>\n",
              "  </thead>\n",
              "  <tbody>\n",
              "    <tr>\n",
              "      <th>0</th>\n",
              "      <td>1</td>\n",
              "      <td>0</td>\n",
              "      <td>3</td>\n",
              "      <td>Braund, Mr. Owen Harris</td>\n",
              "      <td>male</td>\n",
              "      <td>22.0</td>\n",
              "      <td>1</td>\n",
              "      <td>0</td>\n",
              "      <td>A/5 21171</td>\n",
              "      <td>7.2500</td>\n",
              "      <td>NaN</td>\n",
              "      <td>S</td>\n",
              "    </tr>\n",
              "    <tr>\n",
              "      <th>1</th>\n",
              "      <td>2</td>\n",
              "      <td>1</td>\n",
              "      <td>1</td>\n",
              "      <td>Cumings, Mrs. John Bradley (Florence Briggs Th...</td>\n",
              "      <td>female</td>\n",
              "      <td>38.0</td>\n",
              "      <td>1</td>\n",
              "      <td>0</td>\n",
              "      <td>PC 17599</td>\n",
              "      <td>71.2833</td>\n",
              "      <td>C85</td>\n",
              "      <td>C</td>\n",
              "    </tr>\n",
              "    <tr>\n",
              "      <th>2</th>\n",
              "      <td>3</td>\n",
              "      <td>1</td>\n",
              "      <td>3</td>\n",
              "      <td>Heikkinen, Miss. Laina</td>\n",
              "      <td>female</td>\n",
              "      <td>26.0</td>\n",
              "      <td>0</td>\n",
              "      <td>0</td>\n",
              "      <td>STON/O2. 3101282</td>\n",
              "      <td>7.9250</td>\n",
              "      <td>NaN</td>\n",
              "      <td>S</td>\n",
              "    </tr>\n",
              "    <tr>\n",
              "      <th>3</th>\n",
              "      <td>4</td>\n",
              "      <td>1</td>\n",
              "      <td>1</td>\n",
              "      <td>Futrelle, Mrs. Jacques Heath (Lily May Peel)</td>\n",
              "      <td>female</td>\n",
              "      <td>35.0</td>\n",
              "      <td>1</td>\n",
              "      <td>0</td>\n",
              "      <td>113803</td>\n",
              "      <td>53.1000</td>\n",
              "      <td>C123</td>\n",
              "      <td>S</td>\n",
              "    </tr>\n",
              "    <tr>\n",
              "      <th>4</th>\n",
              "      <td>5</td>\n",
              "      <td>0</td>\n",
              "      <td>3</td>\n",
              "      <td>Allen, Mr. William Henry</td>\n",
              "      <td>male</td>\n",
              "      <td>35.0</td>\n",
              "      <td>0</td>\n",
              "      <td>0</td>\n",
              "      <td>373450</td>\n",
              "      <td>8.0500</td>\n",
              "      <td>NaN</td>\n",
              "      <td>S</td>\n",
              "    </tr>\n",
              "  </tbody>\n",
              "</table>\n",
              "</div>"
            ],
            "text/plain": [
              "   PassengerId  Survived  Pclass  ...     Fare Cabin  Embarked\n",
              "0            1         0       3  ...   7.2500   NaN         S\n",
              "1            2         1       1  ...  71.2833   C85         C\n",
              "2            3         1       3  ...   7.9250   NaN         S\n",
              "3            4         1       1  ...  53.1000  C123         S\n",
              "4            5         0       3  ...   8.0500   NaN         S\n",
              "\n",
              "[5 rows x 12 columns]"
            ]
          },
          "metadata": {
            "tags": []
          },
          "execution_count": 17
        }
      ]
    },
    {
      "cell_type": "markdown",
      "metadata": {
        "id": "MX0pwTqNB7SU",
        "colab_type": "text"
      },
      "source": [
        "If you have so far without any errors, then you are all set"
      ]
    },
    {
      "cell_type": "markdown",
      "metadata": {
        "id": "2y5dXOu0Ajyv",
        "colab_type": "text"
      },
      "source": [
        "\n",
        "\n",
        "\n",
        "**If you have come so far without any errors, then you are all set in terms of tooling for the workshop.**\n",
        "*   You can read through the paper '[Why should I trust you? Explaining predictions for any classifier](https://arxiv.org/abs/1602.04938)' to prepare yourself for the LIME workshop on 25-August.\n",
        "*   You can learn more on [Google Colab here](https://colab.research.google.com/notebooks/intro.ipynb)\n",
        "*   If you have **specific questions regarding LIME** that you want to address in the workshop, send them to James G or Rogier P before 18-August.\n",
        "\n",
        "\n",
        "\n",
        "\n"
      ]
    },
    {
      "cell_type": "code",
      "metadata": {
        "id": "Wgc3KGoJ-qS6",
        "colab_type": "code",
        "colab": {}
      },
      "source": [
        ""
      ],
      "execution_count": 14,
      "outputs": []
    }
  ]
}